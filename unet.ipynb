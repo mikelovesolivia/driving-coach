{
 "cells": [
  {
   "cell_type": "code",
   "execution_count": 29,
   "metadata": {},
   "outputs": [],
   "source": [
    "import os\n",
    "from PIL import Image\n",
    "from torch.utils.data import Dataset, DataLoader, random_split\n",
    "import torchvision.transforms as transforms\n",
    "import matplotlib.pyplot as plt\n",
    "import torch.optim as optim\n",
    "from tqdm import tqdm\n",
    "import torch\n",
    "import torch.nn as nn\n",
    "import torch.nn.functional as F\n",
    "import cv2\n",
    "import numpy as np\n",
    "import matplotlib.pyplot as plt\n",
    "from sklearn.metrics import roc_curve, auc, precision_recall_curve, average_precision_score\n",
    "import imageio\n",
    "import re\n",
    "\n",
    "\n",
    "class KITTIDataset(Dataset):\n",
    "    def __init__(self, images_dir, masks_dir=None, transform=None, mask_transform=None):\n",
    "        self.images_dir = images_dir\n",
    "        self.masks_dir = masks_dir\n",
    "        self.transform = transform\n",
    "        self.mask_transform = mask_transform\n",
    "        self.image_names = []\n",
    "        self.mask_names = []\n",
    "\n",
    "        if masks_dir:\n",
    "            \n",
    "            for img_name in os.listdir(images_dir):\n",
    "                base_name1, base_name2 = img_name.split(\"_\")\n",
    "                mask_name = f\"{base_name1}_lane_{base_name2}\"\n",
    "\n",
    "                if os.path.exists(os.path.join(masks_dir, mask_name)):\n",
    "                    self.image_names.append(img_name)\n",
    "                    self.mask_names.append(mask_name)\n",
    "        else:\n",
    "            \n",
    "            self.image_names = os.listdir(images_dir)\n",
    "\n",
    "    def __len__(self):\n",
    "        return len(self.image_names)\n",
    "\n",
    "    def __getitem__(self, idx):\n",
    "        img_name = self.image_names[idx]\n",
    "        img_path = os.path.join(self.images_dir, img_name)\n",
    "        image = Image.open(img_path).convert(\"RGB\")\n",
    "\n",
    "        if self.transform:\n",
    "            image = self.transform(image)\n",
    "\n",
    "        if self.masks_dir:\n",
    "            mask_name = self.mask_names[idx]\n",
    "            mask_path = os.path.join(self.masks_dir, mask_name)\n",
    "            mask = Image.open(mask_path).convert(\"L\")\n",
    "            if self.mask_transform:\n",
    "                mask = self.mask_transform(mask)\n",
    "            return image, mask\n",
    "        else:\n",
    "            return image, img_name\n",
    "\n",
    "\n",
    "\n",
    "image_transforms = transforms.Compose([\n",
    "    transforms.Resize((256, 512)),\n",
    "    transforms.ToTensor(),\n",
    "    transforms.Normalize(mean=[0.485, 0.456, 0.406],\n",
    "                         std=[0.229, 0.224, 0.225])\n",
    "])\n",
    "\n",
    "mask_transforms = transforms.Compose([\n",
    "    transforms.Resize((256, 512)),\n",
    "    transforms.ToTensor()\n",
    "])\n",
    "\n",
    "\n",
    "full_train_dataset = KITTIDataset(\n",
    "    images_dir=\"dataset/data_road/training/image_2\",\n",
    "    masks_dir=\"dataset/data_road/training/gt_image_2\",\n",
    "    transform=image_transforms,\n",
    "    mask_transform=mask_transforms\n",
    ")\n",
    "\n",
    "\n",
    "train_size = int(0.8 * len(full_train_dataset))  \n",
    "val_size = len(full_train_dataset) - train_size\n",
    "train_dataset, val_dataset = random_split(full_train_dataset, [train_size, val_size])\n",
    "\n",
    "\n",
    "test_dataset = KITTIDataset(\n",
    "    images_dir=\"dataset/data_road/testing/image_2\",\n",
    "    masks_dir=None,\n",
    "    transform=image_transforms\n",
    ")\n",
    "\n",
    "\n",
    "train_loader = DataLoader(train_dataset, batch_size=16, shuffle=True, num_workers=0)\n",
    "val_loader = DataLoader(val_dataset, batch_size=16, shuffle=False, num_workers=0)\n",
    "test_loader = DataLoader(test_dataset, batch_size=16, shuffle=False, num_workers=0)\n"
   ]
  },
  {
   "cell_type": "code",
   "execution_count": 2,
   "metadata": {},
   "outputs": [],
   "source": [
    "class DoubleConv(nn.Module):\n",
    "    def __init__(self, in_channels, out_channels):\n",
    "        super().__init__()\n",
    "        self.conv = nn.Sequential(\n",
    "            nn.Conv2d(in_channels, out_channels, kernel_size=3, padding=1),\n",
    "            nn.BatchNorm2d(out_channels),\n",
    "            nn.ReLU(inplace=True),\n",
    "            nn.Conv2d(out_channels, out_channels, kernel_size=3, padding=1),\n",
    "            nn.BatchNorm2d(out_channels),\n",
    "            nn.ReLU(inplace=True)\n",
    "        )\n",
    "        \n",
    "    def forward(self, x):\n",
    "        return self.conv(x)\n",
    "\n",
    "class UNet(nn.Module):\n",
    "    def __init__(self, in_channels=3, out_channels=1, features=[64, 128, 256, 512]):\n",
    "        super().__init__()\n",
    "        self.encoder_blocks = nn.ModuleList()\n",
    "        self.decoder_blocks = nn.ModuleList()\n",
    "        self.pool = nn.MaxPool2d(kernel_size=2, stride=2)\n",
    "        \n",
    "        in_ch = in_channels\n",
    "        for feature in features:\n",
    "            self.encoder_blocks.append(DoubleConv(in_ch, feature))\n",
    "            in_ch = feature\n",
    "        \n",
    "        for feature in reversed(features):\n",
    "            self.decoder_blocks.append(\n",
    "                nn.ConvTranspose2d(feature*2, feature, kernel_size=2, stride=2)\n",
    "            )\n",
    "            self.decoder_blocks.append(DoubleConv(feature*2, feature))\n",
    "\n",
    "        self.bottleneck = DoubleConv(features[-1], features[-1]*2)\n",
    "        \n",
    "        self.final_conv = nn.Conv2d(features[0], out_channels, kernel_size=1)\n",
    "\n",
    "    def forward(self, x):\n",
    "        skip = []\n",
    "        for enc in self.encoder_blocks:\n",
    "            x = enc(x)\n",
    "            skip.append(x)\n",
    "            x = self.pool(x)\n",
    "        \n",
    "        x = self.bottleneck(x)\n",
    "\n",
    "        skip = skip[::-1]\n",
    "        \n",
    "        for idx in range(0, len(self.decoder_blocks), 2):\n",
    "            trans_conv = self.decoder_blocks[idx]\n",
    "            double_conv = self.decoder_blocks[idx+1]\n",
    "            x = trans_conv(x)\n",
    "            \n",
    "            \n",
    "            if x.shape != skip[idx//2].shape:\n",
    "                x = F.interpolate(x, size=skip[idx//2].shape[2:], mode='bilinear', align_corners=True)\n",
    "            \n",
    "            concat_skip = torch.cat((skip[idx//2], x), dim=1)\n",
    "            x = double_conv(concat_skip)\n",
    "\n",
    "        return self.final_conv(x)\n",
    "model = UNet(out_channels=1)  \n"
   ]
  },
  {
   "cell_type": "code",
   "execution_count": 3,
   "metadata": {},
   "outputs": [],
   "source": [
    "device = torch.device(\"cuda\" if torch.cuda.is_available() else \"cpu\")\n",
    "model = model.to(device)\n",
    "optimizer = optim.Adam(model.parameters(), lr=1e-4)\n",
    "\n",
    "num_epochs = 20\n",
    "\n",
    "class DiceLoss(nn.Module):\n",
    "    def __init__(self, smooth=1.):\n",
    "        super(DiceLoss, self).__init__()\n",
    "        self.smooth = smooth\n",
    "    \n",
    "    def forward(self, preds, targets):\n",
    "        preds = preds.view(-1)\n",
    "        targets = targets.view(-1)\n",
    "        intersection = (preds * targets).sum()\n",
    "        dice = (2.*intersection + self.smooth) / (preds.sum() + targets.sum() + self.smooth)\n",
    "        return 1 - dice\n",
    "\n",
    "criterion = nn.BCEWithLogitsLoss()\n",
    "\n"
   ]
  },
  {
   "cell_type": "code",
   "execution_count": 4,
   "metadata": {},
   "outputs": [
    {
     "name": "stderr",
     "output_type": "stream",
     "text": [
      "Epoch 1/20: 100%|██████████| 5/5 [03:18<00:00, 39.66s/it, loss=0.752]\n"
     ]
    },
    {
     "name": "stdout",
     "output_type": "stream",
     "text": [
      "Epoch 1/20, Loss: 0.7519\n"
     ]
    },
    {
     "name": "stderr",
     "output_type": "stream",
     "text": [
      "Epoch 2/20: 100%|██████████| 5/5 [04:09<00:00, 49.86s/it, loss=0.675]\n"
     ]
    },
    {
     "name": "stdout",
     "output_type": "stream",
     "text": [
      "Epoch 2/20, Loss: 0.6753\n"
     ]
    },
    {
     "name": "stderr",
     "output_type": "stream",
     "text": [
      "Epoch 3/20: 100%|██████████| 5/5 [04:06<00:00, 49.38s/it, loss=0.603]\n"
     ]
    },
    {
     "name": "stdout",
     "output_type": "stream",
     "text": [
      "Epoch 3/20, Loss: 0.6033\n"
     ]
    },
    {
     "name": "stderr",
     "output_type": "stream",
     "text": [
      "Epoch 4/20: 100%|██████████| 5/5 [04:03<00:00, 48.69s/it, loss=0.526]\n"
     ]
    },
    {
     "name": "stdout",
     "output_type": "stream",
     "text": [
      "Epoch 4/20, Loss: 0.5263\n"
     ]
    },
    {
     "name": "stderr",
     "output_type": "stream",
     "text": [
      "Epoch 5/20: 100%|██████████| 5/5 [03:57<00:00, 47.53s/it, loss=0.465]\n"
     ]
    },
    {
     "name": "stdout",
     "output_type": "stream",
     "text": [
      "Epoch 5/20, Loss: 0.4649\n"
     ]
    },
    {
     "name": "stderr",
     "output_type": "stream",
     "text": [
      "Epoch 6/20: 100%|██████████| 5/5 [03:18<00:00, 39.68s/it, loss=0.413]\n"
     ]
    },
    {
     "name": "stdout",
     "output_type": "stream",
     "text": [
      "Epoch 6/20, Loss: 0.4126\n"
     ]
    },
    {
     "name": "stderr",
     "output_type": "stream",
     "text": [
      "Epoch 7/20: 100%|██████████| 5/5 [03:20<00:00, 40.05s/it, loss=0.383]\n"
     ]
    },
    {
     "name": "stdout",
     "output_type": "stream",
     "text": [
      "Epoch 7/20, Loss: 0.3827\n"
     ]
    },
    {
     "name": "stderr",
     "output_type": "stream",
     "text": [
      "Epoch 8/20: 100%|██████████| 5/5 [03:22<00:00, 40.55s/it, loss=0.364]\n"
     ]
    },
    {
     "name": "stdout",
     "output_type": "stream",
     "text": [
      "Epoch 8/20, Loss: 0.3641\n"
     ]
    },
    {
     "name": "stderr",
     "output_type": "stream",
     "text": [
      "Epoch 9/20: 100%|██████████| 5/5 [04:01<00:00, 48.27s/it, loss=0.348]\n"
     ]
    },
    {
     "name": "stdout",
     "output_type": "stream",
     "text": [
      "Epoch 9/20, Loss: 0.3475\n"
     ]
    },
    {
     "name": "stderr",
     "output_type": "stream",
     "text": [
      "Epoch 10/20: 100%|██████████| 5/5 [04:10<00:00, 50.18s/it, loss=0.335]\n"
     ]
    },
    {
     "name": "stdout",
     "output_type": "stream",
     "text": [
      "Epoch 10/20, Loss: 0.3349\n"
     ]
    },
    {
     "name": "stderr",
     "output_type": "stream",
     "text": [
      "Epoch 11/20: 100%|██████████| 5/5 [03:45<00:00, 45.06s/it, loss=0.325]\n"
     ]
    },
    {
     "name": "stdout",
     "output_type": "stream",
     "text": [
      "Epoch 11/20, Loss: 0.3246\n"
     ]
    },
    {
     "name": "stderr",
     "output_type": "stream",
     "text": [
      "Epoch 12/20: 100%|██████████| 5/5 [03:41<00:00, 44.20s/it, loss=0.317]\n"
     ]
    },
    {
     "name": "stdout",
     "output_type": "stream",
     "text": [
      "Epoch 12/20, Loss: 0.3174\n"
     ]
    },
    {
     "name": "stderr",
     "output_type": "stream",
     "text": [
      "Epoch 13/20: 100%|██████████| 5/5 [03:33<00:00, 42.66s/it, loss=0.312]\n"
     ]
    },
    {
     "name": "stdout",
     "output_type": "stream",
     "text": [
      "Epoch 13/20, Loss: 0.3119\n"
     ]
    },
    {
     "name": "stderr",
     "output_type": "stream",
     "text": [
      "Epoch 14/20: 100%|██████████| 5/5 [03:55<00:00, 47.19s/it, loss=0.309]\n"
     ]
    },
    {
     "name": "stdout",
     "output_type": "stream",
     "text": [
      "Epoch 14/20, Loss: 0.3089\n"
     ]
    },
    {
     "name": "stderr",
     "output_type": "stream",
     "text": [
      "Epoch 15/20: 100%|██████████| 5/5 [04:07<00:00, 49.50s/it, loss=0.303]\n"
     ]
    },
    {
     "name": "stdout",
     "output_type": "stream",
     "text": [
      "Epoch 15/20, Loss: 0.3031\n"
     ]
    },
    {
     "name": "stderr",
     "output_type": "stream",
     "text": [
      "Epoch 16/20: 100%|██████████| 5/5 [04:49<00:00, 57.99s/it, loss=0.299]\n"
     ]
    },
    {
     "name": "stdout",
     "output_type": "stream",
     "text": [
      "Epoch 16/20, Loss: 0.2988\n"
     ]
    },
    {
     "name": "stderr",
     "output_type": "stream",
     "text": [
      "Epoch 17/20: 100%|██████████| 5/5 [03:55<00:00, 47.15s/it, loss=0.294]\n"
     ]
    },
    {
     "name": "stdout",
     "output_type": "stream",
     "text": [
      "Epoch 17/20, Loss: 0.2937\n"
     ]
    },
    {
     "name": "stderr",
     "output_type": "stream",
     "text": [
      "Epoch 18/20: 100%|██████████| 5/5 [03:24<00:00, 40.89s/it, loss=0.29] \n"
     ]
    },
    {
     "name": "stdout",
     "output_type": "stream",
     "text": [
      "Epoch 18/20, Loss: 0.2900\n"
     ]
    },
    {
     "name": "stderr",
     "output_type": "stream",
     "text": [
      "Epoch 19/20: 100%|██████████| 5/5 [03:25<00:00, 41.18s/it, loss=0.288]\n"
     ]
    },
    {
     "name": "stdout",
     "output_type": "stream",
     "text": [
      "Epoch 19/20, Loss: 0.2875\n"
     ]
    },
    {
     "name": "stderr",
     "output_type": "stream",
     "text": [
      "Epoch 20/20: 100%|██████████| 5/5 [03:50<00:00, 46.01s/it, loss=0.287]\n"
     ]
    },
    {
     "name": "stdout",
     "output_type": "stream",
     "text": [
      "Epoch 20/20, Loss: 0.2873\n"
     ]
    }
   ],
   "source": [
    "for epoch in range(num_epochs):\n",
    "    model.train()\n",
    "    epoch_loss = 0\n",
    "    with tqdm(total=len(train_loader), desc=f\"Epoch {epoch+1}/{num_epochs}\") as pbar:\n",
    "        for images, masks in train_loader:\n",
    "            images = images.to(device)\n",
    "            masks = masks.to(device)\n",
    "            masks = masks.float()  \n",
    "            masks = (masks > 100/255).float()  \n",
    "            \n",
    "            optimizer.zero_grad()\n",
    "            outputs = model(images)\n",
    "            outputs = outputs.squeeze(1)  \n",
    "            loss = criterion(outputs, masks.squeeze(1))\n",
    "            loss.backward()\n",
    "            optimizer.step()\n",
    "            \n",
    "            epoch_loss += loss.item()\n",
    "            pbar.set_postfix({'loss': epoch_loss / (pbar.n + 1)})\n",
    "            pbar.update(1)\n",
    "    print(f\"Epoch {epoch+1}/{num_epochs}, Loss: {epoch_loss/len(train_loader):.4f}\")\n",
    "    \n",
    "    \n",
    "    if epoch == num_epochs - 1 or (epoch + 1) % 10 == 0:\n",
    "        torch.save(model.state_dict(), f\"unet_epoch_{epoch+1}.pth\")\n"
   ]
  },
  {
   "cell_type": "code",
   "execution_count": 5,
   "metadata": {},
   "outputs": [],
   "source": [
    "def sigmoid(x):\n",
    "    return 1 / (1 + np.exp(-x))\n",
    "\n",
    "def preprocess_image(image_path, transform):\n",
    "    image = Image.open(image_path).convert(\"RGB\")\n",
    "    original_size = image.size  \n",
    "    image = transform(image).unsqueeze(0).to(device)  \n",
    "    return image, original_size\n",
    "\n",
    "def postprocess_output(output, original_size, threshold=0.5):\n",
    "    output = output.squeeze().cpu().detach().numpy()\n",
    "    output = sigmoid(output)\n",
    "    output = (output > threshold).astype(np.uint8) * 255\n",
    "    output = Image.fromarray(output).resize(original_size, Image.NEAREST)\n",
    "    return np.array(output)\n",
    "\n",
    "def hough_transform(image, threshold=50, min_line_length=50, max_line_gap=150):\n",
    "    edges = cv2.Canny(image, 50, 150, apertureSize=3)\n",
    "    lines = cv2.HoughLinesP(edges, 1, np.pi/180, threshold, \n",
    "                            minLineLength=min_line_length, \n",
    "                            maxLineGap=max_line_gap)\n",
    "    line_image = np.zeros_like(image)\n",
    "    if lines is not None:\n",
    "        for line in lines:\n",
    "            for x1,y1,x2,y2 in line:\n",
    "                cv2.line(line_image, (x1,y1), (x2,y2), 255, 2)\n",
    "    return line_image\n",
    "\n",
    "def combine_segmentation_hough(segmentation, hough):\n",
    "    combined = cv2.bitwise_and(segmentation, hough)\n",
    "    return combined\n",
    "\n",
    "def hough_transform_area(image, threshold=50, min_line_length=50, max_line_gap=150):\n",
    "    edges = cv2.Canny(image, 50, 150, apertureSize=3)\n",
    "    lines = cv2.HoughLinesP(edges, 1, np.pi/180, threshold, \n",
    "                            minLineLength=min_line_length, \n",
    "                            maxLineGap=max_line_gap)\n",
    "    line_image = np.zeros_like(image)\n",
    "    points = []\n",
    "    \n",
    "    if lines is not None:\n",
    "        for line in lines:\n",
    "            for x1, y1, x2, y2 in line:\n",
    "                \n",
    "                points.append([x1, y1])\n",
    "                points.append([x2, y2])\n",
    "                \n",
    "                cv2.line(line_image, (x1, y1), (x2, y2), 255, 2)\n",
    "    \n",
    "    if points:\n",
    "        \n",
    "        points = np.array(points)\n",
    "        hull = cv2.convexHull(points)\n",
    "        area_mask = np.zeros_like(image)\n",
    "        cv2.fillConvexPoly(area_mask, hull, 255)\n",
    "        return area_mask\n",
    "    else:\n",
    "        \n",
    "        return np.zeros_like(image)\n",
    "\n",
    "def visualize_result(original_image_path, segmentation, combined, save_path=None):\n",
    "    original = cv2.imread(original_image_path)\n",
    "    original = cv2.resize(original, (segmentation.shape[1], segmentation.shape[0]))\n",
    "    \n",
    "    overlay = original.copy()\n",
    "    overlay[segmentation > 0] = [0, 255, 0]\n",
    "\n",
    "    \n",
    "    cv2.addWeighted(original, 0.7, overlay, 0.3, 0, overlay)\n",
    "    \n",
    "    if save_path:\n",
    "        cv2.imwrite(save_path, overlay)\n",
    "    else:\n",
    "        cv2.imshow(\"Lane Detection\", overlay)\n",
    "        cv2.waitKey(0)\n",
    "        cv2.destroyAllWindows()\n",
    "        \n",
    "def keep_largest_connected_area(mask):\n",
    "    if mask.dtype != np.uint8:\n",
    "        mask = mask.astype(np.uint8)\n",
    "    contours, hierarchy = cv2.findContours(mask, cv2.RETR_EXTERNAL, cv2.CHAIN_APPROX_SIMPLE)\n",
    "    if not contours:\n",
    "        return np.zeros_like(mask)\n",
    "\n",
    "    \n",
    "    largest_contour = max(contours, key=cv2.contourArea)\n",
    "\n",
    "    \n",
    "    largest_area_mask = np.zeros_like(mask)\n",
    "    cv2.drawContours(largest_area_mask, [largest_contour], -1, 255, thickness=cv2.FILLED)\n",
    "\n",
    "    return largest_area_mask\n"
   ]
  },
  {
   "cell_type": "code",
   "execution_count": 45,
   "metadata": {},
   "outputs": [],
   "source": [
    "def process_video_without_crop(input_video_path, output_video_path, transform, model, device):\n",
    "    cap = cv2.VideoCapture(input_video_path)\n",
    "    \n",
    "    \n",
    "    frame_width = int(cap.get(cv2.CAP_PROP_FRAME_WIDTH))\n",
    "    frame_height = int(cap.get(cv2.CAP_PROP_FRAME_HEIGHT))\n",
    "    fps = cap.get(cv2.CAP_PROP_FPS)\n",
    "    \n",
    "    \n",
    "    fourcc = cv2.VideoWriter_fourcc(*'XVID')  \n",
    "    out = cv2.VideoWriter(output_video_path, fourcc, fps, (frame_width, frame_height))\n",
    "    \n",
    "    while(cap.isOpened()):\n",
    "        ret, frame = cap.read()\n",
    "        if not ret:\n",
    "            break\n",
    "        \n",
    "        \n",
    "        temp_image_path = \"temp_frame.png\"\n",
    "        cv2.imwrite(temp_image_path, frame)\n",
    "        \n",
    "        \n",
    "        image, original_size = preprocess_image(temp_image_path, transform)\n",
    "        \n",
    "        \n",
    "        model.eval()\n",
    "        with torch.no_grad():\n",
    "            output = model(image.to(device))\n",
    "        segmentation = postprocess_output(output, original_size)\n",
    "\n",
    "        original_image = cv2.resize(frame, (segmentation.shape[1], segmentation.shape[0]))\n",
    "        overlay = original_image.copy()\n",
    "        overlay[segmentation > 0] = [0, 255, 0]  \n",
    "        \n",
    "        \n",
    "        cv2.addWeighted(original_image, 0.7, overlay, 0.3, 0, overlay)\n",
    "        \n",
    "        \n",
    "        final_frame = cv2.resize(overlay, (frame_width, frame_height))\n",
    "        \n",
    "        \n",
    "        out.write(final_frame)\n",
    "    \n",
    "    cap.release()\n",
    "    out.release()\n",
    "    cv2.destroyAllWindows()\n",
    "    \n",
    "    if os.path.exists(\"temp_frame.png\"):\n",
    "        os.remove(\"temp_frame.png\")\n",
    "        \n",
    "def process_video(input_video_path, output_video_path, transform, model, device):\n",
    "    cap = cv2.VideoCapture(input_video_path)\n",
    "\n",
    "    frame_width = int(cap.get(cv2.CAP_PROP_FRAME_WIDTH))\n",
    "    frame_height = int(cap.get(cv2.CAP_PROP_FRAME_HEIGHT))\n",
    "    fps = cap.get(cv2.CAP_PROP_FPS)\n",
    "\n",
    "    fourcc = cv2.VideoWriter_fourcc(*'XVID')\n",
    "    out = cv2.VideoWriter(output_video_path, fourcc, fps, (frame_width, frame_height))\n",
    "    \n",
    "    \n",
    "    target_width = 1242\n",
    "    target_height = 375\n",
    "    target_ratio = target_width / target_height\n",
    "\n",
    "    while(cap.isOpened()):\n",
    "        ret, frame = cap.read()\n",
    "        if not ret:\n",
    "            break\n",
    "        \n",
    "        \n",
    "        current_ratio = frame_width / frame_height\n",
    "\n",
    "        \n",
    "        if abs(current_ratio - target_ratio) < 1e-3:\n",
    "            \n",
    "            cropped_frame = frame\n",
    "            x_offset, y_offset = 0, 0\n",
    "            crop_w, crop_h = frame_width, frame_height\n",
    "        elif current_ratio > target_ratio:\n",
    "            \n",
    "            \n",
    "            new_width = int(frame_height * target_ratio)\n",
    "            x_offset = (frame_width - new_width) // 2\n",
    "            y_offset = 0\n",
    "            crop_w = new_width\n",
    "            crop_h = frame_height\n",
    "            cropped_frame = frame[:, x_offset:x_offset+new_width]\n",
    "        else:\n",
    "            \n",
    "            \n",
    "            new_height = int(frame_width / target_ratio)\n",
    "            y_offset = frame_height - new_height\n",
    "            if y_offset < 0:\n",
    "                \n",
    "                \n",
    "                y_offset = 0\n",
    "                new_height = frame_height\n",
    "            x_offset = 0\n",
    "            crop_w = frame_width\n",
    "            crop_h = new_height\n",
    "            cropped_frame = frame[y_offset:y_offset+new_height, :]\n",
    "\n",
    "        \n",
    "        temp_image_path = \"temp_frame.png\"\n",
    "        cv2.imwrite(temp_image_path, cropped_frame)\n",
    "\n",
    "        \n",
    "        image, original_size = preprocess_image(temp_image_path, transform)  \n",
    "        model.eval()\n",
    "        with torch.no_grad():\n",
    "            output = model(image.to(device))\n",
    "        \n",
    "        \n",
    "        segmentation = postprocess_output(output, original_size)  \n",
    "        segmentation = keep_largest_connected_area(segmentation)\n",
    "\n",
    "        \n",
    "        if (cropped_frame.shape[0] != segmentation.shape[0]) or (cropped_frame.shape[1] != segmentation.shape[1]):\n",
    "            cropped_frame = cv2.resize(cropped_frame, (segmentation.shape[1], segmentation.shape[0]))\n",
    "\n",
    "        \n",
    "        overlay = cropped_frame.copy()\n",
    "        overlay[segmentation > 0] = [0, 255, 0]  \n",
    "        cv2.addWeighted(cropped_frame, 0.7, overlay, 0.3, 0, overlay)\n",
    "\n",
    "        \n",
    "        final_frame = frame.copy()  \n",
    "        \n",
    "        final_frame[y_offset:y_offset+overlay.shape[0], x_offset:x_offset+overlay.shape[1]] = overlay\n",
    "\n",
    "        \n",
    "        if (final_frame.shape[1] != frame_width) or (final_frame.shape[0] != frame_height):\n",
    "            final_frame = cv2.resize(final_frame, (frame_width, frame_height))\n",
    "\n",
    "        \n",
    "        out.write(final_frame)\n",
    "\n",
    "        \n",
    "        if os.path.exists(temp_image_path):\n",
    "            os.remove(temp_image_path)\n",
    "    \n",
    "    cap.release()\n",
    "    out.release()\n",
    "    cv2.destroyAllWindows()\n",
    "\n"
   ]
  },
  {
   "cell_type": "code",
   "execution_count": null,
   "metadata": {},
   "outputs": [
    {
     "data": {
      "text/plain": [
       "UNet(\n",
       "  (encoder_blocks): ModuleList(\n",
       "    (0): DoubleConv(\n",
       "      (conv): Sequential(\n",
       "        (0): Conv2d(3, 64, kernel_size=(3, 3), stride=(1, 1), padding=(1, 1))\n",
       "        (1): BatchNorm2d(64, eps=1e-05, momentum=0.1, affine=True, track_running_stats=True)\n",
       "        (2): ReLU(inplace=True)\n",
       "        (3): Conv2d(64, 64, kernel_size=(3, 3), stride=(1, 1), padding=(1, 1))\n",
       "        (4): BatchNorm2d(64, eps=1e-05, momentum=0.1, affine=True, track_running_stats=True)\n",
       "        (5): ReLU(inplace=True)\n",
       "      )\n",
       "    )\n",
       "    (1): DoubleConv(\n",
       "      (conv): Sequential(\n",
       "        (0): Conv2d(64, 128, kernel_size=(3, 3), stride=(1, 1), padding=(1, 1))\n",
       "        (1): BatchNorm2d(128, eps=1e-05, momentum=0.1, affine=True, track_running_stats=True)\n",
       "        (2): ReLU(inplace=True)\n",
       "        (3): Conv2d(128, 128, kernel_size=(3, 3), stride=(1, 1), padding=(1, 1))\n",
       "        (4): BatchNorm2d(128, eps=1e-05, momentum=0.1, affine=True, track_running_stats=True)\n",
       "        (5): ReLU(inplace=True)\n",
       "      )\n",
       "    )\n",
       "    (2): DoubleConv(\n",
       "      (conv): Sequential(\n",
       "        (0): Conv2d(128, 256, kernel_size=(3, 3), stride=(1, 1), padding=(1, 1))\n",
       "        (1): BatchNorm2d(256, eps=1e-05, momentum=0.1, affine=True, track_running_stats=True)\n",
       "        (2): ReLU(inplace=True)\n",
       "        (3): Conv2d(256, 256, kernel_size=(3, 3), stride=(1, 1), padding=(1, 1))\n",
       "        (4): BatchNorm2d(256, eps=1e-05, momentum=0.1, affine=True, track_running_stats=True)\n",
       "        (5): ReLU(inplace=True)\n",
       "      )\n",
       "    )\n",
       "    (3): DoubleConv(\n",
       "      (conv): Sequential(\n",
       "        (0): Conv2d(256, 512, kernel_size=(3, 3), stride=(1, 1), padding=(1, 1))\n",
       "        (1): BatchNorm2d(512, eps=1e-05, momentum=0.1, affine=True, track_running_stats=True)\n",
       "        (2): ReLU(inplace=True)\n",
       "        (3): Conv2d(512, 512, kernel_size=(3, 3), stride=(1, 1), padding=(1, 1))\n",
       "        (4): BatchNorm2d(512, eps=1e-05, momentum=0.1, affine=True, track_running_stats=True)\n",
       "        (5): ReLU(inplace=True)\n",
       "      )\n",
       "    )\n",
       "  )\n",
       "  (decoder_blocks): ModuleList(\n",
       "    (0): ConvTranspose2d(1024, 512, kernel_size=(2, 2), stride=(2, 2))\n",
       "    (1): DoubleConv(\n",
       "      (conv): Sequential(\n",
       "        (0): Conv2d(1024, 512, kernel_size=(3, 3), stride=(1, 1), padding=(1, 1))\n",
       "        (1): BatchNorm2d(512, eps=1e-05, momentum=0.1, affine=True, track_running_stats=True)\n",
       "        (2): ReLU(inplace=True)\n",
       "        (3): Conv2d(512, 512, kernel_size=(3, 3), stride=(1, 1), padding=(1, 1))\n",
       "        (4): BatchNorm2d(512, eps=1e-05, momentum=0.1, affine=True, track_running_stats=True)\n",
       "        (5): ReLU(inplace=True)\n",
       "      )\n",
       "    )\n",
       "    (2): ConvTranspose2d(512, 256, kernel_size=(2, 2), stride=(2, 2))\n",
       "    (3): DoubleConv(\n",
       "      (conv): Sequential(\n",
       "        (0): Conv2d(512, 256, kernel_size=(3, 3), stride=(1, 1), padding=(1, 1))\n",
       "        (1): BatchNorm2d(256, eps=1e-05, momentum=0.1, affine=True, track_running_stats=True)\n",
       "        (2): ReLU(inplace=True)\n",
       "        (3): Conv2d(256, 256, kernel_size=(3, 3), stride=(1, 1), padding=(1, 1))\n",
       "        (4): BatchNorm2d(256, eps=1e-05, momentum=0.1, affine=True, track_running_stats=True)\n",
       "        (5): ReLU(inplace=True)\n",
       "      )\n",
       "    )\n",
       "    (4): ConvTranspose2d(256, 128, kernel_size=(2, 2), stride=(2, 2))\n",
       "    (5): DoubleConv(\n",
       "      (conv): Sequential(\n",
       "        (0): Conv2d(256, 128, kernel_size=(3, 3), stride=(1, 1), padding=(1, 1))\n",
       "        (1): BatchNorm2d(128, eps=1e-05, momentum=0.1, affine=True, track_running_stats=True)\n",
       "        (2): ReLU(inplace=True)\n",
       "        (3): Conv2d(128, 128, kernel_size=(3, 3), stride=(1, 1), padding=(1, 1))\n",
       "        (4): BatchNorm2d(128, eps=1e-05, momentum=0.1, affine=True, track_running_stats=True)\n",
       "        (5): ReLU(inplace=True)\n",
       "      )\n",
       "    )\n",
       "    (6): ConvTranspose2d(128, 64, kernel_size=(2, 2), stride=(2, 2))\n",
       "    (7): DoubleConv(\n",
       "      (conv): Sequential(\n",
       "        (0): Conv2d(128, 64, kernel_size=(3, 3), stride=(1, 1), padding=(1, 1))\n",
       "        (1): BatchNorm2d(64, eps=1e-05, momentum=0.1, affine=True, track_running_stats=True)\n",
       "        (2): ReLU(inplace=True)\n",
       "        (3): Conv2d(64, 64, kernel_size=(3, 3), stride=(1, 1), padding=(1, 1))\n",
       "        (4): BatchNorm2d(64, eps=1e-05, momentum=0.1, affine=True, track_running_stats=True)\n",
       "        (5): ReLU(inplace=True)\n",
       "      )\n",
       "    )\n",
       "  )\n",
       "  (pool): MaxPool2d(kernel_size=2, stride=2, padding=0, dilation=1, ceil_mode=False)\n",
       "  (bottleneck): DoubleConv(\n",
       "    (conv): Sequential(\n",
       "      (0): Conv2d(512, 1024, kernel_size=(3, 3), stride=(1, 1), padding=(1, 1))\n",
       "      (1): BatchNorm2d(1024, eps=1e-05, momentum=0.1, affine=True, track_running_stats=True)\n",
       "      (2): ReLU(inplace=True)\n",
       "      (3): Conv2d(1024, 1024, kernel_size=(3, 3), stride=(1, 1), padding=(1, 1))\n",
       "      (4): BatchNorm2d(1024, eps=1e-05, momentum=0.1, affine=True, track_running_stats=True)\n",
       "      (5): ReLU(inplace=True)\n",
       "    )\n",
       "  )\n",
       "  (final_conv): Conv2d(64, 1, kernel_size=(1, 1), stride=(1, 1))\n",
       ")"
      ]
     },
     "execution_count": 7,
     "metadata": {},
     "output_type": "execute_result"
    }
   ],
   "source": [
    "# model.load_state_dict(torch.load(f\"unet_epoch_20.pth\"))\n",
    "model.eval()\n",
    "\n"
   ]
  },
  {
   "cell_type": "code",
   "execution_count": 21,
   "metadata": {},
   "outputs": [],
   "source": [
    "save_dir = \"train_results\"\n",
    "os.makedirs(save_dir, exist_ok=True)\n",
    "\n",
    "\n",
    "train_indices = train_dataset.indices  \n",
    "train_filenames = [full_train_dataset.image_names[idx] for idx in train_indices]\n",
    "\n",
    "with torch.no_grad():\n",
    "    for batch_idx, batch in enumerate(train_loader):\n",
    "        images, masks = batch  \n",
    "        images = images.to(device)\n",
    "\n",
    "        logits = model(images)  \n",
    "        probs = torch.sigmoid(logits)\n",
    "        preds = (probs > 0.5).cpu().numpy().astype(np.uint8)  \n",
    "\n",
    "        batch_start_idx = batch_idx * train_loader.batch_size\n",
    "\n",
    "        for i in range(preds.shape[0]):\n",
    "            pred_mask = preds[i, 0, ...]  \n",
    "            pred_mask = np.uint8(pred_mask * 255)  \n",
    "            pred_mask = keep_largest_connected_area(pred_mask)\n",
    "\n",
    "            \n",
    "            filename = os.path.splitext(train_filenames[batch_start_idx + i])[0]\n",
    "\n",
    "            \n",
    "            original_image = np.array(Image.open(os.path.join(full_train_dataset.images_dir, train_filenames[batch_start_idx + i])).convert(\"RGB\"))\n",
    "\n",
    "            \n",
    "            if pred_mask.shape != original_image.shape[:2]:\n",
    "                pred_mask = cv2.resize(pred_mask, (original_image.shape[1], original_image.shape[0]), interpolation=cv2.INTER_NEAREST)\n",
    "\n",
    "            \n",
    "            overlay = original_image.copy()\n",
    "            overlay[pred_mask > 0] = [0, 255, 0]  \n",
    "\n",
    "            \n",
    "            blended = cv2.addWeighted(original_image, 0.7, overlay, 0.3, 0)\n",
    "\n",
    "            \n",
    "            save_path = os.path.join(save_dir, f\"{filename}.png\")\n",
    "            Image.fromarray(blended).save(save_path)\n"
   ]
  },
  {
   "cell_type": "code",
   "execution_count": 20,
   "metadata": {},
   "outputs": [],
   "source": [
    "save_dir = \"val_results\"\n",
    "os.makedirs(save_dir, exist_ok=True)\n",
    "\n",
    "\n",
    "val_indices = val_dataset.indices  \n",
    "val_filenames = [full_train_dataset.image_names[idx] for idx in val_indices]\n",
    "\n",
    "with torch.no_grad():\n",
    "    for batch_idx, batch in enumerate(val_loader):\n",
    "        images, masks = batch  \n",
    "        images = images.to(device)\n",
    "\n",
    "        logits = model(images)  \n",
    "        probs = torch.sigmoid(logits)\n",
    "        preds = (probs > 0.5).cpu().numpy().astype(np.uint8)  \n",
    "\n",
    "        batch_start_idx = batch_idx * val_loader.batch_size\n",
    "\n",
    "        for i in range(preds.shape[0]):\n",
    "            pred_mask = preds[i, 0, ...]  \n",
    "            pred_mask = np.uint8(pred_mask * 255)  \n",
    "            pred_mask = keep_largest_connected_area(pred_mask)\n",
    "\n",
    "            \n",
    "            filename = os.path.splitext(val_filenames[batch_start_idx + i])[0]\n",
    "\n",
    "            \n",
    "            original_image = np.array(Image.open(os.path.join(full_train_dataset.images_dir, val_filenames[batch_start_idx + i])).convert(\"RGB\"))\n",
    "\n",
    "            \n",
    "            if pred_mask.shape != original_image.shape[:2]:\n",
    "                pred_mask = cv2.resize(pred_mask, (original_image.shape[1], original_image.shape[0]), interpolation=cv2.INTER_NEAREST)\n",
    "\n",
    "            \n",
    "            overlay = original_image.copy()\n",
    "            overlay[pred_mask > 0] = [0, 255, 0]  \n",
    "\n",
    "            \n",
    "            blended = cv2.addWeighted(original_image, 0.7, overlay, 0.3, 0)\n",
    "\n",
    "            \n",
    "            save_path = os.path.join(save_dir, f\"{filename}.png\")\n",
    "            Image.fromarray(blended).save(save_path)\n"
   ]
  },
  {
   "cell_type": "code",
   "execution_count": 27,
   "metadata": {},
   "outputs": [],
   "source": [
    "save_dir = \"test_results\"\n",
    "os.makedirs(save_dir, exist_ok=True)\n",
    "\n",
    "\n",
    "test_filenames = test_dataset.image_names\n",
    "\n",
    "with torch.no_grad():\n",
    "    for batch_idx, batch in enumerate(test_loader):\n",
    "        images, masks = batch  \n",
    "        images = images.to(device)\n",
    "\n",
    "        logits = model(images)  \n",
    "        probs = torch.sigmoid(logits)\n",
    "        preds = (probs > 0.5).cpu().numpy().astype(np.uint8)  \n",
    "\n",
    "        batch_start_idx = batch_idx * test_loader.batch_size\n",
    "\n",
    "        for i in range(preds.shape[0]):\n",
    "            pred_mask = preds[i, 0, ...]  \n",
    "            pred_mask = keep_largest_connected_area(pred_mask)\n",
    "            pred_mask = np.uint8(pred_mask * 255)  \n",
    "\n",
    "            \n",
    "            filename = os.path.splitext(test_filenames[batch_start_idx + i])[0]\n",
    "\n",
    "            \n",
    "            original_image = np.array(Image.open(os.path.join(test_dataset.images_dir, test_filenames[batch_start_idx + i])).convert(\"RGB\"))\n",
    "\n",
    "            \n",
    "            if pred_mask.shape != original_image.shape[:2]:\n",
    "                pred_mask = cv2.resize(pred_mask, (original_image.shape[1], original_image.shape[0]), interpolation=cv2.INTER_NEAREST)\n",
    "\n",
    "            \n",
    "            overlay = original_image.copy()\n",
    "            overlay[pred_mask > 0] = [0, 255, 0]  \n",
    "\n",
    "            \n",
    "            blended = cv2.addWeighted(original_image, 0.7, overlay, 0.3, 0)\n",
    "\n",
    "            \n",
    "            save_path = os.path.join(save_dir, f\"{filename}.png\")\n",
    "            Image.fromarray(blended).save(save_path)\n"
   ]
  },
  {
   "cell_type": "code",
   "execution_count": 34,
   "metadata": {},
   "outputs": [
    {
     "name": "stderr",
     "output_type": "stream",
     "text": [
      "100%|██████████| 179/179 [00:05<00:00, 34.33it/s]\n"
     ]
    }
   ],
   "source": [
    "def sort_files(file_list):\n",
    "    def sort_key(file_name):\n",
    "        match = re.match(r\"(\\w+)_(\\d+)\\.png\", file_name)\n",
    "        if match:\n",
    "            prefix = match.group(1)  \n",
    "            number = int(match.group(2))  \n",
    "            return (prefix, number)\n",
    "        else:\n",
    "            return (\"\", 0)  \n",
    "\n",
    "    return sorted(file_list, key=sort_key)\n",
    "\n",
    "def generate_gif(folder_path, output_gif_path, fps=10, target_size=(1242//2, 375//2)):\n",
    "    file_list = [f for f in os.listdir(folder_path) if f.endswith(\".png\")]\n",
    "    \n",
    "    sorted_files = sort_files(file_list)\n",
    "    \n",
    "\n",
    "    images = []\n",
    "    for file_name in tqdm(sorted_files):\n",
    "        file_path = os.path.join(folder_path, file_name)\n",
    "        img = Image.open(file_path)\n",
    "\n",
    "        if target_size:\n",
    "            img = img.resize(target_size)\n",
    "        \n",
    "        images.append(np.array(img)) \n",
    "\n",
    "    base_shape = images[0].shape\n",
    "    images = [np.array(Image.fromarray(img).resize((base_shape[1], base_shape[0]))) for img in images]\n",
    "    imageio.mimsave(output_gif_path, images, fps=fps)\n",
    "    \n",
    "folder_path = \"test_results\"  \n",
    "output_gif_path = \"test.gif\"       \n",
    "generate_gif(folder_path, output_gif_path, fps=5)\n"
   ]
  },
  {
   "cell_type": "code",
   "execution_count": 46,
   "metadata": {},
   "outputs": [],
   "source": [
    "input_video_path = \"curved_lane.mp4\"  \n",
    "output_video_path = \"curved_lane_detected_processed.avi\"\n",
    "process_video(input_video_path, output_video_path, image_transforms, model, device)"
   ]
  },
  {
   "cell_type": "code",
   "execution_count": 12,
   "metadata": {},
   "outputs": [
    {
     "name": "stdout",
     "output_type": "stream",
     "text": [
      "Average Dice Coefficient: 0.9526\n",
      "Average IoU: 0.9102\n",
      "Average Pixel Accuracy: 0.9923\n"
     ]
    },
    {
     "name": "stderr",
     "output_type": "stream",
     "text": [
      "C:\\Users\\11439\\AppData\\Local\\Temp\\ipykernel_24956\\1287712157.py:68: DeprecationWarning: `trapz` is deprecated. Use `trapezoid` instead, or one of the numerical integration functions in `scipy.integrate`.\n",
      "  pr_auc = np.trapz(precision, recall)\n"
     ]
    },
    {
     "data": {
      "image/png": "[encoded data removed]",
      "text/plain": [
       "<Figure size 600x600 with 1 Axes>"
      ]
     },
     "metadata": {},
     "output_type": "display_data"
    },
    {
     "data": {
      "image/png": "[encoded data removed]",
      "text/plain": [
       "<Figure size 600x600 with 1 Axes>"
      ]
     },
     "metadata": {},
     "output_type": "display_data"
    },
    {
     "data": {
      "text/plain": [
       "(np.float64(0.9525694847106934),\n",
       " np.float64(0.9101687371730804),\n",
       " np.float64(0.9923370679219563),\n",
       " np.float64(0.9813854121364534),\n",
       " np.float64(-0.9601864041362235))"
      ]
     },
     "execution_count": 12,
     "metadata": {},
     "output_type": "execute_result"
    }
   ],
   "source": [
    "def evaluate(model, dataloader, device):\n",
    "    model.eval()\n",
    "    dice_scores = []\n",
    "    iou_scores = []\n",
    "    pixel_accuracies = []\n",
    "    \n",
    "    all_masks = []\n",
    "    all_outputs = []\n",
    "    \n",
    "    with torch.no_grad():\n",
    "        for images, masks in dataloader:\n",
    "            images = images.to(device)\n",
    "            \n",
    "            \n",
    "            masks = (masks > 100/255).to(device).float()\n",
    "            \n",
    "            raw_outputs = model(images)  \n",
    "            probs = torch.sigmoid(raw_outputs)  \n",
    "            preds = (probs > 0.5).float()\n",
    "\n",
    "            \n",
    "            preds_flat = preds.view(-1)\n",
    "            masks_flat = masks.view(-1)\n",
    "\n",
    "            \n",
    "            probs_flat = probs.view(-1)  \n",
    "\n",
    "            \n",
    "            intersection = (preds_flat * masks_flat).sum()\n",
    "            dice_score = (2. * intersection + 1e-6) / (preds_flat.sum() + masks_flat.sum() + 1e-6)\n",
    "            dice_scores.append(dice_score.item())\n",
    "\n",
    "            \n",
    "            union = preds_flat.sum() + masks_flat.sum() - intersection\n",
    "            iou_score = (intersection + 1e-6) / (union + 1e-6)\n",
    "            iou_scores.append(iou_score.item())\n",
    "\n",
    "            \n",
    "            correct = (preds_flat == masks_flat).sum()\n",
    "            total = preds_flat.numel()\n",
    "            pixel_accuracy = correct.item() / total\n",
    "            pixel_accuracies.append(pixel_accuracy)\n",
    "            \n",
    "            \n",
    "            all_masks.append(masks_flat.detach().cpu().numpy())\n",
    "            all_outputs.append(probs_flat.detach().cpu().numpy())\n",
    "\n",
    "    \n",
    "    avg_dice = np.mean(dice_scores)\n",
    "    avg_iou = np.mean(iou_scores)\n",
    "    avg_accuracy = np.mean(pixel_accuracies)\n",
    "\n",
    "    print(f\"Average Dice Coefficient: {avg_dice:.4f}\")\n",
    "    print(f\"Average IoU: {avg_iou:.4f}\")\n",
    "    print(f\"Average Pixel Accuracy: {avg_accuracy:.4f}\")\n",
    "\n",
    "    \n",
    "    all_masks_np = np.concatenate(all_masks)\n",
    "    all_outputs_np = np.concatenate(all_outputs)\n",
    "\n",
    "    \n",
    "    fpr, tpr, thresholds = roc_curve(all_masks_np, all_outputs_np)\n",
    "    roc_auc = auc(fpr, tpr)\n",
    "\n",
    "    \n",
    "    precision, recall, pr_thresholds = precision_recall_curve(all_masks_np, all_outputs_np)\n",
    "    \n",
    "    pr_auc = np.trapz(precision, recall)\n",
    "\n",
    "    \n",
    "    plt.figure(figsize=(6, 6))\n",
    "    plt.plot(fpr, tpr, color='blue', lw=2, label=f'ROC Curve (AUC = {roc_auc:.4f})')\n",
    "    plt.plot([0, 1], [0, 1], color='red', lw=2, linestyle='--')\n",
    "    plt.xlim([0.0, 1.0])\n",
    "    plt.ylim([0.0, 1.05])\n",
    "    plt.xlabel('False Positive Rate')\n",
    "    plt.ylabel('True Positive Rate')\n",
    "    plt.title('Pixel-level ROC Curve')\n",
    "    plt.legend(loc='lower right')\n",
    "    plt.grid(True)\n",
    "    plt.show()\n",
    "\n",
    "    \n",
    "    plt.figure(figsize=(6, 6))\n",
    "    plt.plot(recall, precision, color='green', lw=2, label=f'PR Curve (AUC = {pr_auc:.4f})')\n",
    "    plt.xlim([0.0, 1.0])\n",
    "    plt.ylim([0.0, 1.05])\n",
    "    plt.xlabel('Recall')\n",
    "    plt.ylabel('Precision')\n",
    "    plt.title('Pixel-level Precision-Recall Curve')\n",
    "    plt.legend(loc='lower left')\n",
    "    plt.grid(True)\n",
    "    plt.show()\n",
    "\n",
    "    return avg_dice, avg_iou, avg_accuracy, roc_auc, pr_auc\n",
    "\n",
    "evaluate(model, val_loader, device)"
   ]
  },
  {
   "cell_type": "code",
   "execution_count": 13,
   "metadata": {},
   "outputs": [
    {
     "name": "stdout",
     "output_type": "stream",
     "text": [
      "Average Dice Coefficient: 0.9591\n",
      "Average IoU: 0.9215\n",
      "Average Pixel Accuracy: 0.9935\n"
     ]
    },
    {
     "name": "stderr",
     "output_type": "stream",
     "text": [
      "C:\\Users\\11439\\AppData\\Local\\Temp\\ipykernel_24956\\1287712157.py:68: DeprecationWarning: `trapz` is deprecated. Use `trapezoid` instead, or one of the numerical integration functions in `scipy.integrate`.\n",
      "  pr_auc = np.trapz(precision, recall)\n"
     ]
    },
    {
     "data": {
      "image/png": "[encoded data removed]",
      "text/plain": [
       "<Figure size 600x600 with 1 Axes>"
      ]
     },
     "metadata": {},
     "output_type": "display_data"
    },
    {
     "data": {
      "image/png": "[encoded data removed]",
      "text/plain": [
       "<Figure size 600x600 with 1 Axes>"
      ]
     },
     "metadata": {},
     "output_type": "display_data"
    },
    {
     "data": {
      "text/plain": [
       "(np.float64(0.9590776324272156),\n",
       " np.float64(0.9214754343032837),\n",
       " np.float64(0.9935468355814615),\n",
       " np.float64(0.995303710410048),\n",
       " np.float64(-0.9855488127673295))"
      ]
     },
     "execution_count": 13,
     "metadata": {},
     "output_type": "execute_result"
    }
   ],
   "source": [
    "evaluate(model, train_loader, device)"
   ]
  },
  {
   "cell_type": "code",
   "execution_count": 24,
   "metadata": {},
   "outputs": [
    {
     "data": {
      "text/plain": [
       "76"
      ]
     },
     "execution_count": 24,
     "metadata": {},
     "output_type": "execute_result"
    }
   ],
   "source": [
    "len(train_dataset)"
   ]
  },
  {
   "cell_type": "code",
   "execution_count": 36,
   "metadata": {},
   "outputs": [
    {
     "data": {
      "text/plain": [
       "179"
      ]
     },
     "execution_count": 36,
     "metadata": {},
     "output_type": "execute_result"
    }
   ],
   "source": [
    "len(test_dataset)"
   ]
  }
 ],
 "metadata": {
  "kernelspec": {
   "display_name": "cv",
   "language": "python",
   "name": "python3"
  },
  "language_info": {
   "codemirror_mode": {
    "name": "ipython",
    "version": 3
   },
   "file_extension": ".py",
   "mimetype": "text/x-python",
   "name": "python",
   "nbconvert_exporter": "python",
   "pygments_lexer": "ipython3",
   "version": "3.9.19"
  }
 },
 "nbformat": 4,
 "nbformat_minor": 2
}
